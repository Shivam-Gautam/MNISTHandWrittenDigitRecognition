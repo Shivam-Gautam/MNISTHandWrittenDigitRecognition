{
 "cells": [
  {
   "cell_type": "markdown",
   "id": "f66ad3d2",
   "metadata": {},
   "source": [
    "# Fetching Datasets"
   ]
  },
  {
   "cell_type": "code",
   "execution_count": 1,
   "id": "43e683a3",
   "metadata": {},
   "outputs": [],
   "source": [
    "from sklearn.datasets import fetch_openml "
   ]
  },
  {
   "cell_type": "code",
   "execution_count": 2,
   "id": "ff53e947",
   "metadata": {},
   "outputs": [],
   "source": [
    "mnist = fetch_openml('mnist_784') #fetching the dataset"
   ]
  },
  {
   "cell_type": "markdown",
   "id": "51646bde",
   "metadata": {},
   "source": [
    "# Analysing the dataset"
   ]
  },
  {
   "cell_type": "code",
   "execution_count": 3,
   "id": "bc3c0c42",
   "metadata": {},
   "outputs": [],
   "source": [
    "x, y = mnist['data'], mnist['target'] "
   ]
  },
  {
   "cell_type": "code",
   "execution_count": 4,
   "id": "3644c834",
   "metadata": {},
   "outputs": [
    {
     "data": {
      "text/plain": [
       "(70000, 784)"
      ]
     },
     "execution_count": 4,
     "metadata": {},
     "output_type": "execute_result"
    }
   ],
   "source": [
    "x.shape #this shows that x has 70000 data entries with 784 features for each"
   ]
  },
  {
   "cell_type": "code",
   "execution_count": 5,
   "id": "37246bfe",
   "metadata": {},
   "outputs": [
    {
     "data": {
      "text/plain": [
       "(70000,)"
      ]
     },
     "execution_count": 5,
     "metadata": {},
     "output_type": "execute_result"
    }
   ],
   "source": [
    "y.shape #y has 70000 label entries"
   ]
  },
  {
   "cell_type": "code",
   "execution_count": 6,
   "id": "d54d0c58",
   "metadata": {},
   "outputs": [],
   "source": [
    "%matplotlib inline"
   ]
  },
  {
   "cell_type": "code",
   "execution_count": 7,
   "id": "592e47f5",
   "metadata": {},
   "outputs": [],
   "source": [
    "import matplotlib\n",
    "import matplotlib.pyplot as plt\n",
    "import numpy as np"
   ]
  },
  {
   "cell_type": "code",
   "execution_count": 8,
   "id": "279d9fb7",
   "metadata": {},
   "outputs": [],
   "source": [
    "some_digit = np.array(x.iloc[4000])\n",
    "some_digit_image = some_digit.reshape(28,28) #reshaping array so we can clearly see the image"
   ]
  },
  {
   "cell_type": "code",
   "execution_count": 9,
   "id": "d9a8c17c",
   "metadata": {},
   "outputs": [
    {
     "data": {
      "text/plain": [
       "(-0.5, 27.5, 27.5, -0.5)"
      ]
     },
     "execution_count": 9,
     "metadata": {},
     "output_type": "execute_result"
    },
    {
     "data": {
      "image/png": "[encoded data removed]",
      "text/plain": [
       "<Figure size 432x288 with 1 Axes>"
      ]
     },
     "metadata": {
      "needs_background": "light"
     },
     "output_type": "display_data"
    }
   ],
   "source": [
    "plt.imshow(some_digit_image, cmap = matplotlib.cm.binary, interpolation = \"nearest\")\n",
    "plt.axis(\"off\")"
   ]
  },
  {
   "cell_type": "code",
   "execution_count": 10,
   "id": "637a77b6",
   "metadata": {},
   "outputs": [
    {
     "data": {
      "text/plain": [
       "'7'"
      ]
     },
     "execution_count": 10,
     "metadata": {},
     "output_type": "execute_result"
    }
   ],
   "source": [
    "y[4000]"
   ]
  },
  {
   "cell_type": "markdown",
   "id": "b9a8e397",
   "metadata": {},
   "source": [
    "# Splitting test and train set"
   ]
  },
  {
   "cell_type": "code",
   "execution_count": 11,
   "id": "dc92434c",
   "metadata": {},
   "outputs": [],
   "source": [
    "x_train , x_test = x[0:8000], x[8000:10000] \n",
    "y_train , y_test = y[0:8000], y[8000:10000]"
   ]
  },
  {
   "cell_type": "markdown",
   "id": "127ecf89",
   "metadata": {},
   "source": [
    "Here I reduced the size of the dataset because of hardware bottleneck"
   ]
  },
  {
   "cell_type": "markdown",
   "id": "043d6771",
   "metadata": {},
   "source": [
    "# Disable Warnings"
   ]
  },
  {
   "cell_type": "code",
   "execution_count": 12,
   "id": "64ffd869",
   "metadata": {},
   "outputs": [],
   "source": [
    "import warnings\n",
    "warnings.filterwarnings('ignore') #disabled warnings which might occur because of hardware limitations"
   ]
  },
  {
   "cell_type": "markdown",
   "id": "dc38e0ac",
   "metadata": {},
   "source": [
    "# Creating the model"
   ]
  },
  {
   "cell_type": "code",
   "execution_count": 13,
   "id": "1eb3e872",
   "metadata": {},
   "outputs": [],
   "source": [
    "y_train = y_train.astype(np.int8)\n",
    "y_test = y_test.astype(np.int8)"
   ]
  },
  {
   "cell_type": "code",
   "execution_count": 14,
   "id": "7232693f",
   "metadata": {},
   "outputs": [
    {
     "data": {
      "text/plain": [
       "0       5\n",
       "1       0\n",
       "2       4\n",
       "3       1\n",
       "4       9\n",
       "       ..\n",
       "7995    8\n",
       "7996    1\n",
       "7997    6\n",
       "7998    5\n",
       "7999    4\n",
       "Name: class, Length: 8000, dtype: int8"
      ]
     },
     "execution_count": 14,
     "metadata": {},
     "output_type": "execute_result"
    }
   ],
   "source": [
    "y_train "
   ]
  },
  {
   "cell_type": "code",
   "execution_count": 15,
   "id": "4d4bbef6",
   "metadata": {},
   "outputs": [],
   "source": [
    "from sklearn.linear_model import LogisticRegression"
   ]
  },
  {
   "cell_type": "code",
   "execution_count": 16,
   "id": "879117c1",
   "metadata": {},
   "outputs": [],
   "source": [
    "clf = LogisticRegression(tol = 0.1, solver = 'lbfgs')"
   ]
  },
  {
   "cell_type": "code",
   "execution_count": 17,
   "id": "1d34b8a1",
   "metadata": {},
   "outputs": [
    {
     "data": {
      "text/plain": [
       "LogisticRegression(tol=0.1)"
      ]
     },
     "execution_count": 17,
     "metadata": {},
     "output_type": "execute_result"
    }
   ],
   "source": [
    "clf.fit(x_train,y_train) #training the classifier"
   ]
  },
  {
   "cell_type": "code",
   "execution_count": 18,
   "id": "e337afd0",
   "metadata": {},
   "outputs": [
    {
     "data": {
      "text/plain": [
       "array([5, 0, 4, ..., 6, 5, 4], dtype=int8)"
      ]
     },
     "execution_count": 18,
     "metadata": {},
     "output_type": "execute_result"
    }
   ],
   "source": [
    "clf.predict(x_train)"
   ]
  },
  {
   "cell_type": "markdown",
   "id": "66a96ba1",
   "metadata": {},
   "source": [
    "# Cross Validation Assessment"
   ]
  },
  {
   "cell_type": "code",
   "execution_count": 19,
   "id": "2d9164d2",
   "metadata": {},
   "outputs": [],
   "source": [
    "from sklearn.model_selection import cross_val_score"
   ]
  },
  {
   "cell_type": "code",
   "execution_count": 20,
   "id": "608c2c30",
   "metadata": {},
   "outputs": [],
   "source": [
    "accuracy = cross_val_score(clf, x_train, y_train, cv = 3, scoring = \"accuracy\")"
   ]
  },
  {
   "cell_type": "code",
   "execution_count": 21,
   "id": "1d26036c",
   "metadata": {},
   "outputs": [
    {
     "data": {
      "text/plain": [
       "0.8702498553022208"
      ]
     },
     "execution_count": 21,
     "metadata": {},
     "output_type": "execute_result"
    }
   ],
   "source": [
    "accuracy.mean()"
   ]
  },
  {
   "cell_type": "markdown",
   "id": "3453dcb1",
   "metadata": {},
   "source": [
    "# Generating the Confusion Matrix"
   ]
  },
  {
   "cell_type": "code",
   "execution_count": 22,
   "id": "1daa6cf9",
   "metadata": {},
   "outputs": [],
   "source": [
    "from sklearn.model_selection import cross_val_predict\n",
    "from sklearn.metrics import confusion_matrix"
   ]
  },
  {
   "cell_type": "code",
   "execution_count": 23,
   "id": "7304e0ac",
   "metadata": {},
   "outputs": [],
   "source": [
    "y_test_pred = cross_val_predict(clf, x_test, y_test, cv = 3)"
   ]
  },
  {
   "cell_type": "code",
   "execution_count": 24,
   "id": "a23ad753",
   "metadata": {},
   "outputs": [
    {
     "data": {
      "text/plain": [
       "array([[191,   0,   5,   0,   1,   5,   2,   0,   0,   2],\n",
       "       [  0, 212,   4,   1,   1,   0,   0,   1,   2,   0],\n",
       "       [  4,   2, 161,   9,   2,   2,   5,   6,  11,   1],\n",
       "       [  2,   4,  10, 171,   2,   9,   2,   7,   4,  10],\n",
       "       [  1,   1,   0,   0, 156,   1,   2,   3,   3,  14],\n",
       "       [  1,   1,   4,   9,   8, 123,   3,   0,   9,   3],\n",
       "       [  4,   0,   2,   0,   4,   5, 197,   0,   3,   1],\n",
       "       [  1,   1,   3,   2,   3,   0,   0, 187,   3,  17],\n",
       "       [  5,  13,   7,   5,   3,  13,   7,   2, 133,   3],\n",
       "       [  4,   0,   3,   4,   8,   4,   0,  17,   2, 141]], dtype=int64)"
      ]
     },
     "execution_count": 24,
     "metadata": {},
     "output_type": "execute_result"
    }
   ],
   "source": [
    "confusion_matrix(y_test, y_test_pred)"
   ]
  },
  {
   "cell_type": "markdown",
   "id": "c6da03cb",
   "metadata": {},
   "source": [
    "# Precision and Classification Report"
   ]
  },
  {
   "cell_type": "code",
   "execution_count": 25,
   "id": "0a2d7aa4",
   "metadata": {},
   "outputs": [
    {
     "name": "stdout",
     "output_type": "stream",
     "text": [
      "              precision    recall  f1-score   support\n",
      "\n",
      "           0       0.90      0.93      0.91       206\n",
      "           1       0.91      0.96      0.93       221\n",
      "           2       0.81      0.79      0.80       203\n",
      "           3       0.85      0.77      0.81       221\n",
      "           4       0.83      0.86      0.85       181\n",
      "           5       0.76      0.76      0.76       161\n",
      "           6       0.90      0.91      0.91       216\n",
      "           7       0.84      0.86      0.85       217\n",
      "           8       0.78      0.70      0.74       191\n",
      "           9       0.73      0.77      0.75       183\n",
      "\n",
      "    accuracy                           0.84      2000\n",
      "   macro avg       0.83      0.83      0.83      2000\n",
      "weighted avg       0.84      0.84      0.84      2000\n",
      "\n"
     ]
    }
   ],
   "source": [
    "from sklearn.metrics import classification_report\n",
    "target_names = ['0', '1', '2','3','4','5','6','7','8','9']\n",
    "print(classification_report(y_test, y_test_pred, target_names=target_names))"
   ]
  },
  {
   "cell_type": "code",
   "execution_count": 26,
   "id": "9eaaee0c",
   "metadata": {},
   "outputs": [
    {
     "data": {
      "text/plain": [
       "0.836"
      ]
     },
     "execution_count": 26,
     "metadata": {},
     "output_type": "execute_result"
    }
   ],
   "source": [
    "from sklearn.metrics import precision_score\n",
    "precision_score(y_test, y_test_pred, average='micro')"
   ]
  },
  {
   "cell_type": "markdown",
   "id": "1cb9a3f4",
   "metadata": {},
   "source": [
    "## Therefore, we've trained a Handwritten Digit Recognition model using the LinearRegression algorithm that is having a precision of 83.6%. "
   ]
  }
 ],
 "metadata": {
  "kernelspec": {
   "display_name": "Python 3 (ipykernel)",
   "language": "python",
   "name": "python3"
  },
  "language_info": {
   "codemirror_mode": {
    "name": "ipython",
    "version": 3
   },
   "file_extension": ".py",
   "mimetype": "text/x-python",
   "name": "python",
   "nbconvert_exporter": "python",
   "pygments_lexer": "ipython3",
   "version": "3.9.6"
  }
 },
 "nbformat": 4,
 "nbformat_minor": 5
}
